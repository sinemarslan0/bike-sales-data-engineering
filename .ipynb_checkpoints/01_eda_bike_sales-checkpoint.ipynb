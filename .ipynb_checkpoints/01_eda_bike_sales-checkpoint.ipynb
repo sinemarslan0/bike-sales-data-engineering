{
 "cells": [
  {
   "cell_type": "markdown",
   "id": "8fe8ebcf-d588-4baa-a89b-779aefd8ccb5",
   "metadata": {},
   "source": [
    "# 🚴‍♀️ Bike Sales – Exploratory Data Analysis (EDA)\n",
    "\n",
    "This notebook performs an **Exploratory Data Analysis (EDA)** on the Bike Sales dataset from Kaggle.  \n",
    "The goal is to understand the structure of the data, identify missing or inconsistent values, generate basic statistics, and create initial visualizations.\n",
    "\n",
    "**Steps:**\n",
    "1. Load all CSV files into DataFrames\n",
    "2. Inspect data types and missing values\n",
    "3. Generate descriptive statistics\n",
    "4. Create initial visualizations\n",
    "\n",
    "**Technologies:** Python, Pandas, Matplotlib, Seaborn"
   ]
  },
  {
   "cell_type": "markdown",
   "id": "ab181f24-50f3-4f13-ba09-2a60efcd471d",
   "metadata": {},
   "source": [
    "### **Step 1 :** Import necessary libraries"
   ]
  },
  {
   "cell_type": "code",
   "execution_count": 24,
   "id": "c4111ffd-bf6d-4eeb-9e8e-687d6eb82aed",
   "metadata": {},
   "outputs": [],
   "source": [
    "import pandas as pd\n",
    "import matplotlib.pyplot as plt\n",
    "import seaborn as sns\n",
    "\n",
    "# Display plots inside the notebook\n",
    "%matplotlib inline\n",
    "\n",
    "# Set visual style\n",
    "sns.set(style=\"whitegrid\")"
   ]
  },
  {
   "cell_type": "markdown",
   "id": "896b9414-7387-414a-899b-3057cf11e10f",
   "metadata": {},
   "source": [
    "### **Step 2:** Load all the CSV files"
   ]
  },
  {
   "cell_type": "code",
   "execution_count": 25,
   "id": "5bec9d4c-5344-49f3-8621-9d639e0e28ef",
   "metadata": {},
   "outputs": [],
   "source": [
    "# Load datasets with encoding fallback\n",
    "addresses = pd.read_csv(\"data/Addresses.csv\", encoding=\"ISO-8859-1\")\n",
    "business_partners = pd.read_csv(\"data/BusinessPartners.csv\", encoding=\"ISO-8859-1\")\n",
    "employees = pd.read_csv(\"data/Employees.csv\", encoding=\"ISO-8859-1\")\n",
    "product_categories = pd.read_csv(\"data/ProductCategories.csv\", encoding=\"ISO-8859-1\")\n",
    "products = pd.read_csv(\"data/Products.csv\", encoding=\"ISO-8859-1\")\n",
    "product_texts = pd.read_csv(\"data/ProductTexts.csv\", encoding=\"ISO-8859-1\")\n",
    "sales_order_items = pd.read_csv(\"data/SalesOrderItems.csv\", encoding=\"ISO-8859-1\")\n",
    "sales_orders = pd.read_csv(\"data/SalesOrders.csv\", encoding=\"ISO-8859-1\")"
   ]
  },
  {
   "cell_type": "markdown",
   "id": "d86dc436-18c3-46fb-8ced-08b03be93baf",
   "metadata": {},
   "source": [
    "### **Step 3:** Review the tables and begin explorations."
   ]
  },
  {
   "cell_type": "markdown",
   "id": "2055b059-033e-488e-968e-1c9418f0adcc",
   "metadata": {},
   "source": [
    "**Step 3.1:** Let’s start with the *addresses* table."
   ]
  },
  {
   "cell_type": "code",
   "execution_count": 48,
   "id": "e56e0248-a614-4173-b22f-b77d8cdbdd60",
   "metadata": {},
   "outputs": [
    {
     "data": {
      "text/plain": [
       "(54, 12)"
      ]
     },
     "execution_count": 48,
     "metadata": {},
     "output_type": "execute_result"
    }
   ],
   "source": [
    "# Check how large the addresses table is\n",
    "addresses.shape"
   ]
  },
  {
   "cell_type": "code",
   "execution_count": 37,
   "id": "777bcb2f-8138-4fe5-84f4-d6bbedaff698",
   "metadata": {},
   "outputs": [
    {
     "data": {
      "text/html": [
       "<div>\n",
       "<style scoped>\n",
       "    .dataframe tbody tr th:only-of-type {\n",
       "        vertical-align: middle;\n",
       "    }\n",
       "\n",
       "    .dataframe tbody tr th {\n",
       "        vertical-align: top;\n",
       "    }\n",
       "\n",
       "    .dataframe thead th {\n",
       "        text-align: right;\n",
       "    }\n",
       "</style>\n",
       "<table border=\"1\" class=\"dataframe\">\n",
       "  <thead>\n",
       "    <tr style=\"text-align: right;\">\n",
       "      <th></th>\n",
       "      <th>ï»¿ADDRESSID</th>\n",
       "      <th>CITY</th>\n",
       "      <th>POSTALCODE</th>\n",
       "      <th>STREET</th>\n",
       "      <th>BUILDING</th>\n",
       "      <th>COUNTRY</th>\n",
       "      <th>REGION</th>\n",
       "      <th>ADDRESSTYPE</th>\n",
       "      <th>VALIDITY_STARTDATE</th>\n",
       "      <th>VALIDITY_ENDDATE</th>\n",
       "      <th>LATITUDE</th>\n",
       "      <th>LONGITUDE</th>\n",
       "    </tr>\n",
       "  </thead>\n",
       "  <tbody>\n",
       "    <tr>\n",
       "      <th>0</th>\n",
       "      <td>1000000034</td>\n",
       "      <td>West Nyack</td>\n",
       "      <td>10994</td>\n",
       "      <td>Settlers Lane</td>\n",
       "      <td>5027.0</td>\n",
       "      <td>US</td>\n",
       "      <td>AMER</td>\n",
       "      <td>2</td>\n",
       "      <td>20000101</td>\n",
       "      <td>99991231</td>\n",
       "      <td>41.100057</td>\n",
       "      <td>-73.973562</td>\n",
       "    </tr>\n",
       "    <tr>\n",
       "      <th>1</th>\n",
       "      <td>1000000035</td>\n",
       "      <td>Fair Oaks</td>\n",
       "      <td>95628</td>\n",
       "      <td>Woodland Terrace</td>\n",
       "      <td>4467.0</td>\n",
       "      <td>US</td>\n",
       "      <td>AMER</td>\n",
       "      <td>2</td>\n",
       "      <td>20000101</td>\n",
       "      <td>99991231</td>\n",
       "      <td>38.638355</td>\n",
       "      <td>-121.286683</td>\n",
       "    </tr>\n",
       "    <tr>\n",
       "      <th>2</th>\n",
       "      <td>1000000036</td>\n",
       "      <td>Dunn</td>\n",
       "      <td>28334</td>\n",
       "      <td>Layman Avenue</td>\n",
       "      <td>2250.0</td>\n",
       "      <td>US</td>\n",
       "      <td>AMER</td>\n",
       "      <td>2</td>\n",
       "      <td>20000101</td>\n",
       "      <td>99991231</td>\n",
       "      <td>35.312013</td>\n",
       "      <td>-78.609950</td>\n",
       "    </tr>\n",
       "    <tr>\n",
       "      <th>3</th>\n",
       "      <td>1000000037</td>\n",
       "      <td>Chicago</td>\n",
       "      <td>60605</td>\n",
       "      <td>University Drive</td>\n",
       "      <td>4697.0</td>\n",
       "      <td>US</td>\n",
       "      <td>AMER</td>\n",
       "      <td>2</td>\n",
       "      <td>20000101</td>\n",
       "      <td>99991231</td>\n",
       "      <td>41.874591</td>\n",
       "      <td>-87.627303</td>\n",
       "    </tr>\n",
       "    <tr>\n",
       "      <th>4</th>\n",
       "      <td>1000000038</td>\n",
       "      <td>Ocala</td>\n",
       "      <td>34471</td>\n",
       "      <td>Bagwell Avenue</td>\n",
       "      <td>1565.0</td>\n",
       "      <td>US</td>\n",
       "      <td>AMER</td>\n",
       "      <td>2</td>\n",
       "      <td>20000101</td>\n",
       "      <td>99991231</td>\n",
       "      <td>29.183977</td>\n",
       "      <td>-82.118413</td>\n",
       "    </tr>\n",
       "  </tbody>\n",
       "</table>\n",
       "</div>"
      ],
      "text/plain": [
       "   ï»¿ADDRESSID        CITY POSTALCODE            STREET  BUILDING COUNTRY  \\\n",
       "0    1000000034  West Nyack      10994     Settlers Lane    5027.0      US   \n",
       "1    1000000035   Fair Oaks      95628  Woodland Terrace    4467.0      US   \n",
       "2    1000000036        Dunn      28334     Layman Avenue    2250.0      US   \n",
       "3    1000000037     Chicago      60605  University Drive    4697.0      US   \n",
       "4    1000000038       Ocala      34471    Bagwell Avenue    1565.0      US   \n",
       "\n",
       "  REGION  ADDRESSTYPE  VALIDITY_STARTDATE  VALIDITY_ENDDATE   LATITUDE  \\\n",
       "0   AMER            2            20000101          99991231  41.100057   \n",
       "1   AMER            2            20000101          99991231  38.638355   \n",
       "2   AMER            2            20000101          99991231  35.312013   \n",
       "3   AMER            2            20000101          99991231  41.874591   \n",
       "4   AMER            2            20000101          99991231  29.183977   \n",
       "\n",
       "    LONGITUDE  \n",
       "0  -73.973562  \n",
       "1 -121.286683  \n",
       "2  -78.609950  \n",
       "3  -87.627303  \n",
       "4  -82.118413  "
      ]
     },
     "execution_count": 37,
     "metadata": {},
     "output_type": "execute_result"
    }
   ],
   "source": [
    "# Preview of the addresses table\n",
    "addresses.head()"
   ]
  },
  {
   "cell_type": "markdown",
   "id": "8d5d771e-e7c9-4e00-acd3-e26d6747875b",
   "metadata": {
    "jp-MarkdownHeadingCollapsed": true
   },
   "source": [
    "**Country Distribution in `addresses`**\n",
    "\n",
    "Let's examine the *Country* column to see if all entries are from the US or if other countries appear."
   ]
  },
  {
   "cell_type": "code",
   "execution_count": 34,
   "id": "c3eb4956-3785-4b43-ae57-ed14f960bcd9",
   "metadata": {},
   "outputs": [
    {
     "data": {
      "text/plain": [
       "COUNTRY\n",
       "US    9\n",
       "CA    9\n",
       "GB    6\n",
       "DE    6\n",
       "AU    6\n",
       "IN    6\n",
       "DU    6\n",
       "FR    6\n",
       "Name: count, dtype: int64"
      ]
     },
     "execution_count": 34,
     "metadata": {},
     "output_type": "execute_result"
    }
   ],
   "source": [
    "# Check unique countries in the addresses table\n",
    "addresses[\"COUNTRY\"].value_counts()"
   ]
  },
  {
   "cell_type": "markdown",
   "id": "b82c2217-9909-43f2-ac82-7776cabeab98",
   "metadata": {},
   "source": [
    "The abbreviations here are ISO country codes. Their expansions are as follows:\n",
    "US → United States\n",
    "CA → Canada\n",
    "GB → Great Britain / United Kingdom\n",
    "DE → Germany\n",
    "AU → Australia\n",
    "IN → India\n",
    "FR → France\n",
    "\n",
    "**Note:** However, DU is not an official ISO country code. It is likely a data error or an incorrect entry. Sometimes DU is used to refer to “Dubai” (which is actually a city in the UAE, not a country) or it may have been mistakenly entered instead of NL (Netherlands)."
   ]
  },
  {
   "cell_type": "code",
   "execution_count": 32,
   "id": "fdb3cb46-892c-47ee-bea2-bde75d27b38b",
   "metadata": {},
   "outputs": [
    {
     "data": {
      "image/png": "[encoded data removed]",
      "text/plain": [
       "<Figure size 800x500 with 1 Axes>"
      ]
     },
     "metadata": {},
     "output_type": "display_data"
    }
   ],
   "source": [
    "plt.figure(figsize=(8,5))\n",
    "sns.countplot(data=addresses, y=\"COUNTRY\", order=addresses[\"COUNTRY\"].value_counts().index)\n",
    "plt.title(\"Distribution of Addresses by Country\")\n",
    "plt.xlabel(\"Count\")\n",
    "plt.ylabel(\"Country\")\n",
    "plt.show()"
   ]
  },
  {
   "cell_type": "markdown",
   "id": "099c4e2a-7c6f-486c-b04b-f66689581a9d",
   "metadata": {},
   "source": [
    "**Step 3.2:** Let’s examine with the *business_partners* table."
   ]
  },
  {
   "cell_type": "code",
   "execution_count": 39,
   "id": "9cbc779f-19f8-4472-8bf8-d7320a302b6b",
   "metadata": {},
   "outputs": [
    {
     "data": {
      "text/plain": [
       "(40, 14)"
      ]
     },
     "execution_count": 39,
     "metadata": {},
     "output_type": "execute_result"
    }
   ],
   "source": [
    "# Check how large the business_partners table is\n",
    "business_partners.shape"
   ]
  },
  {
   "cell_type": "code",
   "execution_count": 38,
   "id": "87833cc5-9c4d-4161-a7b3-5aa2074cf3e9",
   "metadata": {},
   "outputs": [
    {
     "data": {
      "text/html": [
       "<div>\n",
       "<style scoped>\n",
       "    .dataframe tbody tr th:only-of-type {\n",
       "        vertical-align: middle;\n",
       "    }\n",
       "\n",
       "    .dataframe tbody tr th {\n",
       "        vertical-align: top;\n",
       "    }\n",
       "\n",
       "    .dataframe thead th {\n",
       "        text-align: right;\n",
       "    }\n",
       "</style>\n",
       "<table border=\"1\" class=\"dataframe\">\n",
       "  <thead>\n",
       "    <tr style=\"text-align: right;\">\n",
       "      <th></th>\n",
       "      <th>PARTNERID</th>\n",
       "      <th>PARTNERROLE</th>\n",
       "      <th>EMAILADDRESS</th>\n",
       "      <th>PHONENUMBER</th>\n",
       "      <th>FAXNUMBER</th>\n",
       "      <th>WEBADDRESS</th>\n",
       "      <th>ADDRESSID</th>\n",
       "      <th>COMPANYNAME</th>\n",
       "      <th>LEGALFORM</th>\n",
       "      <th>CREATEDBY</th>\n",
       "      <th>CREATEDAT</th>\n",
       "      <th>CHANGEDBY</th>\n",
       "      <th>CHANGEDAT</th>\n",
       "      <th>CURRENCY</th>\n",
       "    </tr>\n",
       "  </thead>\n",
       "  <tbody>\n",
       "    <tr>\n",
       "      <th>0</th>\n",
       "      <td>100000000</td>\n",
       "      <td>2</td>\n",
       "      <td>maria.brown@all4bikes.com</td>\n",
       "      <td>622734567</td>\n",
       "      <td>NaN</td>\n",
       "      <td>http://www.all4bikes.com</td>\n",
       "      <td>1000000034</td>\n",
       "      <td>All For Bikes</td>\n",
       "      <td>Inc.</td>\n",
       "      <td>10</td>\n",
       "      <td>20181003</td>\n",
       "      <td>10</td>\n",
       "      <td>20181003</td>\n",
       "      <td>USD</td>\n",
       "    </tr>\n",
       "    <tr>\n",
       "      <th>1</th>\n",
       "      <td>100000001</td>\n",
       "      <td>2</td>\n",
       "      <td>bob.buyer@amazebikes.com</td>\n",
       "      <td>3088530</td>\n",
       "      <td>NaN</td>\n",
       "      <td>http://www.amazebikes.com</td>\n",
       "      <td>1000000035</td>\n",
       "      <td>Amaze Bikes Inc</td>\n",
       "      <td>Inc.</td>\n",
       "      <td>13</td>\n",
       "      <td>20181003</td>\n",
       "      <td>13</td>\n",
       "      <td>20181003</td>\n",
       "      <td>USD</td>\n",
       "    </tr>\n",
       "    <tr>\n",
       "      <th>2</th>\n",
       "      <td>100000002</td>\n",
       "      <td>2</td>\n",
       "      <td>victor.sanchez@arenasportusa.com</td>\n",
       "      <td>3023352668</td>\n",
       "      <td>NaN</td>\n",
       "      <td>http://www.arenasportusa.com</td>\n",
       "      <td>1000000036</td>\n",
       "      <td>Arena Sports Inc</td>\n",
       "      <td>Inc.</td>\n",
       "      <td>14</td>\n",
       "      <td>20181003</td>\n",
       "      <td>14</td>\n",
       "      <td>20181003</td>\n",
       "      <td>USD</td>\n",
       "    </tr>\n",
       "    <tr>\n",
       "      <th>3</th>\n",
       "      <td>100000003</td>\n",
       "      <td>2</td>\n",
       "      <td>franklin.jones@atlantausa.com</td>\n",
       "      <td>511403266</td>\n",
       "      <td>NaN</td>\n",
       "      <td>http://www.atlantausa.com</td>\n",
       "      <td>1000000037</td>\n",
       "      <td>Atlanta Corp Inc</td>\n",
       "      <td>Inc.</td>\n",
       "      <td>10</td>\n",
       "      <td>20181003</td>\n",
       "      <td>10</td>\n",
       "      <td>20181003</td>\n",
       "      <td>USD</td>\n",
       "    </tr>\n",
       "    <tr>\n",
       "      <th>4</th>\n",
       "      <td>100000004</td>\n",
       "      <td>2</td>\n",
       "      <td>robert_brown@bikeworlds.com</td>\n",
       "      <td>2244668800</td>\n",
       "      <td>NaN</td>\n",
       "      <td>http://www.bikeworlds.com</td>\n",
       "      <td>1000000038</td>\n",
       "      <td>Bike World Inc</td>\n",
       "      <td>Inc.</td>\n",
       "      <td>4</td>\n",
       "      <td>20181003</td>\n",
       "      <td>4</td>\n",
       "      <td>20181003</td>\n",
       "      <td>USD</td>\n",
       "    </tr>\n",
       "  </tbody>\n",
       "</table>\n",
       "</div>"
      ],
      "text/plain": [
       "   PARTNERID  PARTNERROLE                      EMAILADDRESS  PHONENUMBER  \\\n",
       "0  100000000            2         maria.brown@all4bikes.com    622734567   \n",
       "1  100000001            2          bob.buyer@amazebikes.com      3088530   \n",
       "2  100000002            2  victor.sanchez@arenasportusa.com   3023352668   \n",
       "3  100000003            2     franklin.jones@atlantausa.com    511403266   \n",
       "4  100000004            2       robert_brown@bikeworlds.com   2244668800   \n",
       "\n",
       "   FAXNUMBER                    WEBADDRESS   ADDRESSID       COMPANYNAME  \\\n",
       "0        NaN      http://www.all4bikes.com  1000000034     All For Bikes   \n",
       "1        NaN     http://www.amazebikes.com  1000000035   Amaze Bikes Inc   \n",
       "2        NaN  http://www.arenasportusa.com  1000000036  Arena Sports Inc   \n",
       "3        NaN     http://www.atlantausa.com  1000000037  Atlanta Corp Inc   \n",
       "4        NaN     http://www.bikeworlds.com  1000000038    Bike World Inc   \n",
       "\n",
       "  LEGALFORM  CREATEDBY  CREATEDAT  CHANGEDBY  CHANGEDAT CURRENCY  \n",
       "0      Inc.         10   20181003         10   20181003      USD  \n",
       "1      Inc.         13   20181003         13   20181003      USD  \n",
       "2      Inc.         14   20181003         14   20181003      USD  \n",
       "3      Inc.         10   20181003         10   20181003      USD  \n",
       "4      Inc.          4   20181003          4   20181003      USD  "
      ]
     },
     "execution_count": 38,
     "metadata": {},
     "output_type": "execute_result"
    }
   ],
   "source": [
    "# Preview of the business_partners table\n",
    "business_partners.head()"
   ]
  },
  {
   "cell_type": "markdown",
   "id": "49906435-e0ba-45cd-858a-b80d55af96c0",
   "metadata": {},
   "source": [
    "**Unique Companies in `business_partners`**\n",
    "\n",
    "Count distinct companies to assess partner diversity."
   ]
  },
  {
   "cell_type": "code",
   "execution_count": 45,
   "id": "ee5a8fe6-6eaf-468d-a447-5ad1641d9206",
   "metadata": {},
   "outputs": [
    {
     "data": {
      "text/plain": [
       "40"
      ]
     },
     "execution_count": 45,
     "metadata": {},
     "output_type": "execute_result"
    }
   ],
   "source": [
    "# Count unique companies\n",
    "business_partners[\"COMPANYNAME\"].nunique()"
   ]
  },
  {
   "cell_type": "code",
   "execution_count": 46,
   "id": "f0b68a04-327d-46c2-957f-d9f48b648d52",
   "metadata": {},
   "outputs": [
    {
     "data": {
      "text/plain": [
       "array(['All For Bikes', 'Amaze Bikes Inc', 'Arena Sports Inc',\n",
       "       'Atlanta Corp Inc', 'Bike World Inc', 'Alpha AG',\n",
       "       'BuchungsKreis 1010', 'Trek Cycle AG', 'Tona Bikes AG',\n",
       "       'Meine Bicycle', 'Avante Grande Bikes', 'Bike On',\n",
       "       'Carefree Cycles', 'G&M Bicycle', 'Keep Cycling',\n",
       "       'iCare Australia', 'CC SportWorld', 'DigiPay',\n",
       "       'TechCycle Canberra', 'eBike 100', 'Cycle World',\n",
       "       'High Tech Sports Inc', 'Tires On Fire', 'MX Bike', 'FitnessWorld',\n",
       "       'Homerun Millwork Inc.', 'Antonio Bandolera', 'Khan Cycles',\n",
       "       'Palm Beach Bike World', 'A to Z Fitness', 'Hudson SportsTec',\n",
       "       'Ebike 36', 'Wichita Sport', 'Move by Bike', 'TechCycle',\n",
       "       'YourCycleShop', 'Unolab Manufacturing', 'E bike 201',\n",
       "       'The Cycle Factor', 'Eiffel Bikes'], dtype=object)"
      ]
     },
     "execution_count": 46,
     "metadata": {},
     "output_type": "execute_result"
    }
   ],
   "source": [
    "business_partners[\"COMPANYNAME\"].unique()"
   ]
  },
  {
   "cell_type": "markdown",
   "id": "620d1b2a-ebf4-4074-ac5a-a42ccb48fb76",
   "metadata": {},
   "source": [
    "**Step 3.3:** Let’s examine with the *employees* table."
   ]
  },
  {
   "cell_type": "code",
   "execution_count": 49,
   "id": "5617ab94-1eaf-4c09-bc7f-ec0d6d4c6e16",
   "metadata": {},
   "outputs": [
    {
     "data": {
      "text/plain": [
       "(14, 19)"
      ]
     },
     "execution_count": 49,
     "metadata": {},
     "output_type": "execute_result"
    }
   ],
   "source": [
    "# Check how large the employees table is\n",
    "employees.shape"
   ]
  },
  {
   "cell_type": "code",
   "execution_count": 50,
   "id": "100f75bc-db0f-4d74-9b23-3dad7bafcaee",
   "metadata": {},
   "outputs": [
    {
     "data": {
      "text/html": [
       "<div>\n",
       "<style scoped>\n",
       "    .dataframe tbody tr th:only-of-type {\n",
       "        vertical-align: middle;\n",
       "    }\n",
       "\n",
       "    .dataframe tbody tr th {\n",
       "        vertical-align: top;\n",
       "    }\n",
       "\n",
       "    .dataframe thead th {\n",
       "        text-align: right;\n",
       "    }\n",
       "</style>\n",
       "<table border=\"1\" class=\"dataframe\">\n",
       "  <thead>\n",
       "    <tr style=\"text-align: right;\">\n",
       "      <th></th>\n",
       "      <th>EMPLOYEEID</th>\n",
       "      <th>NAME_FIRST</th>\n",
       "      <th>NAME_MIDDLE</th>\n",
       "      <th>NAME_LAST</th>\n",
       "      <th>NAME_INITIALS</th>\n",
       "      <th>SEX</th>\n",
       "      <th>LANGUAGE</th>\n",
       "      <th>PHONENUMBER</th>\n",
       "      <th>EMAILADDRESS</th>\n",
       "      <th>LOGINNAME</th>\n",
       "      <th>ADDRESSID</th>\n",
       "      <th>VALIDITY_STARTDATE</th>\n",
       "      <th>VALIDITY_ENDDATE</th>\n",
       "      <th>Unnamed: 13</th>\n",
       "      <th>Unnamed: 14</th>\n",
       "      <th>Unnamed: 15</th>\n",
       "      <th>Unnamed: 16</th>\n",
       "      <th>Unnamed: 17</th>\n",
       "      <th>Unnamed: 18</th>\n",
       "    </tr>\n",
       "  </thead>\n",
       "  <tbody>\n",
       "    <tr>\n",
       "      <th>0</th>\n",
       "      <td>1</td>\n",
       "      <td>Derrick</td>\n",
       "      <td>L</td>\n",
       "      <td>Magill</td>\n",
       "      <td>NaN</td>\n",
       "      <td>M</td>\n",
       "      <td>E</td>\n",
       "      <td>630-374-0306</td>\n",
       "      <td>derrick.magill@itelo.info</td>\n",
       "      <td>derrickm</td>\n",
       "      <td>1000000001</td>\n",
       "      <td>20000101</td>\n",
       "      <td>99991231</td>\n",
       "      <td>NaN</td>\n",
       "      <td>NaN</td>\n",
       "      <td>NaN</td>\n",
       "      <td>NaN</td>\n",
       "      <td>NaN</td>\n",
       "      <td>NaN</td>\n",
       "    </tr>\n",
       "    <tr>\n",
       "      <th>1</th>\n",
       "      <td>2</td>\n",
       "      <td>Philipp</td>\n",
       "      <td>T</td>\n",
       "      <td>Egger</td>\n",
       "      <td>NaN</td>\n",
       "      <td>M</td>\n",
       "      <td>E</td>\n",
       "      <td>09603 61 24 64</td>\n",
       "      <td>philipp.egger@itelo.info</td>\n",
       "      <td>philippm</td>\n",
       "      <td>1000000002</td>\n",
       "      <td>20000101</td>\n",
       "      <td>99991231</td>\n",
       "      <td>NaN</td>\n",
       "      <td>NaN</td>\n",
       "      <td>NaN</td>\n",
       "      <td>NaN</td>\n",
       "      <td>NaN</td>\n",
       "      <td>NaN</td>\n",
       "    </tr>\n",
       "    <tr>\n",
       "      <th>2</th>\n",
       "      <td>3</td>\n",
       "      <td>Ellis</td>\n",
       "      <td>K</td>\n",
       "      <td>Robertson</td>\n",
       "      <td>NaN</td>\n",
       "      <td>M</td>\n",
       "      <td>E</td>\n",
       "      <td>070 8691 2288</td>\n",
       "      <td>ellis.robertson@itelo.info</td>\n",
       "      <td>ellism</td>\n",
       "      <td>1000000003</td>\n",
       "      <td>20000101</td>\n",
       "      <td>99991231</td>\n",
       "      <td>NaN</td>\n",
       "      <td>NaN</td>\n",
       "      <td>NaN</td>\n",
       "      <td>NaN</td>\n",
       "      <td>NaN</td>\n",
       "      <td>NaN</td>\n",
       "    </tr>\n",
       "    <tr>\n",
       "      <th>3</th>\n",
       "      <td>4</td>\n",
       "      <td>William</td>\n",
       "      <td>M</td>\n",
       "      <td>Mussen</td>\n",
       "      <td>NaN</td>\n",
       "      <td>M</td>\n",
       "      <td>E</td>\n",
       "      <td>026734 4556</td>\n",
       "      <td>william.mussen@itelo.info</td>\n",
       "      <td>williamm</td>\n",
       "      <td>1000000004</td>\n",
       "      <td>20000101</td>\n",
       "      <td>99991231</td>\n",
       "      <td>NaN</td>\n",
       "      <td>NaN</td>\n",
       "      <td>NaN</td>\n",
       "      <td>NaN</td>\n",
       "      <td>NaN</td>\n",
       "      <td>NaN</td>\n",
       "    </tr>\n",
       "    <tr>\n",
       "      <th>4</th>\n",
       "      <td>5</td>\n",
       "      <td>Javas</td>\n",
       "      <td>NaN</td>\n",
       "      <td>Hegde</td>\n",
       "      <td>NaN</td>\n",
       "      <td>M</td>\n",
       "      <td>E</td>\n",
       "      <td>02224135120</td>\n",
       "      <td>javas.hegde@itelo.info</td>\n",
       "      <td>javasm</td>\n",
       "      <td>1000000005</td>\n",
       "      <td>20000101</td>\n",
       "      <td>99991231</td>\n",
       "      <td>NaN</td>\n",
       "      <td>NaN</td>\n",
       "      <td>NaN</td>\n",
       "      <td>NaN</td>\n",
       "      <td>NaN</td>\n",
       "      <td>NaN</td>\n",
       "    </tr>\n",
       "  </tbody>\n",
       "</table>\n",
       "</div>"
      ],
      "text/plain": [
       "   EMPLOYEEID NAME_FIRST NAME_MIDDLE  NAME_LAST  NAME_INITIALS SEX LANGUAGE  \\\n",
       "0           1    Derrick           L     Magill            NaN   M        E   \n",
       "1           2    Philipp           T      Egger            NaN   M        E   \n",
       "2           3      Ellis           K  Robertson            NaN   M        E   \n",
       "3           4    William           M     Mussen            NaN   M        E   \n",
       "4           5      Javas         NaN      Hegde            NaN   M        E   \n",
       "\n",
       "      PHONENUMBER                EMAILADDRESS LOGINNAME   ADDRESSID  \\\n",
       "0    630-374-0306   derrick.magill@itelo.info  derrickm  1000000001   \n",
       "1  09603 61 24 64    philipp.egger@itelo.info  philippm  1000000002   \n",
       "2   070 8691 2288  ellis.robertson@itelo.info    ellism  1000000003   \n",
       "3     026734 4556   william.mussen@itelo.info  williamm  1000000004   \n",
       "4     02224135120      javas.hegde@itelo.info    javasm  1000000005   \n",
       "\n",
       "   VALIDITY_STARTDATE  VALIDITY_ENDDATE  Unnamed: 13  Unnamed: 14  \\\n",
       "0            20000101          99991231          NaN          NaN   \n",
       "1            20000101          99991231          NaN          NaN   \n",
       "2            20000101          99991231          NaN          NaN   \n",
       "3            20000101          99991231          NaN          NaN   \n",
       "4            20000101          99991231          NaN          NaN   \n",
       "\n",
       "   Unnamed: 15  Unnamed: 16  Unnamed: 17  Unnamed: 18  \n",
       "0          NaN          NaN          NaN          NaN  \n",
       "1          NaN          NaN          NaN          NaN  \n",
       "2          NaN          NaN          NaN          NaN  \n",
       "3          NaN          NaN          NaN          NaN  \n",
       "4          NaN          NaN          NaN          NaN  "
      ]
     },
     "execution_count": 50,
     "metadata": {},
     "output_type": "execute_result"
    }
   ],
   "source": [
    "# Preview of the addresses table\n",
    "employees.head()"
   ]
  },
  {
   "cell_type": "markdown",
   "id": "8b177d6f-8f41-4bc7-8a16-9274e5baf472",
   "metadata": {},
   "source": [
    "**Gender Distribution in `employees`**\n",
    "\n",
    "Count males and females from the `SEX` column."
   ]
  },
  {
   "cell_type": "code",
   "execution_count": 52,
   "id": "ae37cca1-113a-4275-b5da-32e3142ae479",
   "metadata": {},
   "outputs": [
    {
     "data": {
      "text/plain": [
       "SEX\n",
       "M    10\n",
       "F     4\n",
       "Name: count, dtype: int64"
      ]
     },
     "execution_count": 52,
     "metadata": {},
     "output_type": "execute_result"
    }
   ],
   "source": [
    "employees[\"SEX\"].value_counts()"
   ]
  },
  {
   "cell_type": "markdown",
   "id": "bd23f653-5546-4825-9ce7-d313152fc5c9",
   "metadata": {},
   "source": [
    "**Missing Values in `NAME_INITIALS`**\n",
    "\n",
    "Check if all entries in `NAME_INITIALS` are NaN."
   ]
  },
  {
   "cell_type": "code",
   "execution_count": 53,
   "id": "70ebdf80-def2-4230-8738-741cc59168e7",
   "metadata": {},
   "outputs": [
    {
     "data": {
      "text/plain": [
       "np.True_"
      ]
     },
     "execution_count": 53,
     "metadata": {},
     "output_type": "execute_result"
    }
   ],
   "source": [
    "employees[\"NAME_INITIALS\"].isna().all()"
   ]
  },
  {
   "cell_type": "markdown",
   "id": "35c710b0-7bf1-4aca-a425-aab100a45de5",
   "metadata": {},
   "source": [
    "**Language in `employees`**\n",
    "\n",
    "Check if all `LANGUAGE` entries are \"E\"."
   ]
  },
  {
   "cell_type": "code",
   "execution_count": 57,
   "id": "eb45e67d-e51d-484d-8baf-b8d170d32157",
   "metadata": {},
   "outputs": [
    {
     "data": {
      "text/plain": [
       "np.True_"
      ]
     },
     "execution_count": 57,
     "metadata": {},
     "output_type": "execute_result"
    }
   ],
   "source": [
    "(employees[\"LANGUAGE\"] == \"E\").all()"
   ]
  },
  {
   "cell_type": "markdown",
   "id": "fa7a8692-32f7-491e-8f91-cf38a45b140d",
   "metadata": {},
   "source": [
    "**Missing Values in Last 6 `Unnamed` Columns**\n",
    "\n",
    "Check if the last six columns without headers are empty."
   ]
  },
  {
   "cell_type": "code",
   "execution_count": 59,
   "id": "f7e5a465-1785-458a-9c9a-4e002fde1572",
   "metadata": {},
   "outputs": [
    {
     "data": {
      "text/plain": [
       "Unnamed: 13    True\n",
       "Unnamed: 14    True\n",
       "Unnamed: 15    True\n",
       "Unnamed: 16    True\n",
       "Unnamed: 17    True\n",
       "Unnamed: 18    True\n",
       "dtype: bool"
      ]
     },
     "execution_count": 59,
     "metadata": {},
     "output_type": "execute_result"
    }
   ],
   "source": [
    "# Identify columns whose names start with 'Unnamed'\n",
    "unnamed_cols = [col for col in employees.columns if col.startswith(\"Unnamed\")]\n",
    "\n",
    "# Check if all values in each of these columns are NaN\n",
    "employees[unnamed_cols].isna().all()"
   ]
  },
  {
   "cell_type": "markdown",
   "id": "7a763614-2437-47a8-9f00-0d2d18dd4554",
   "metadata": {},
   "source": [
    "**Note:** Based on the inspection results, there are 7 columns in this table that contain only missing (NaN) values. These columns should be considered for removal or proper handling during the data cleaning phase to improve data quality and reduce unnecessary storage."
   ]
  },
  {
   "cell_type": "markdown",
   "id": "b95bb907-0da1-46ee-86d6-bf7e05d822db",
   "metadata": {},
   "source": [
    "**Step 3.4:** Let’s examine with the *product_categories* table."
   ]
  },
  {
   "cell_type": "code",
   "execution_count": null,
   "id": "ec44eb14-68df-40a0-8c14-ce5acd5e4d98",
   "metadata": {},
   "outputs": [],
   "source": []
  },
  {
   "cell_type": "code",
   "execution_count": null,
   "id": "babe9fba-c6c8-42c0-9957-bb0f14999868",
   "metadata": {},
   "outputs": [],
   "source": []
  },
  {
   "cell_type": "code",
   "execution_count": null,
   "id": "1f99e8ce-14ae-4ca3-9393-ebbfe1a3d72a",
   "metadata": {},
   "outputs": [],
   "source": []
  },
  {
   "cell_type": "code",
   "execution_count": null,
   "id": "d19482ea-51b2-49a2-9e7d-b3e300a060df",
   "metadata": {},
   "outputs": [],
   "source": []
  },
  {
   "cell_type": "code",
   "execution_count": null,
   "id": "ac7cf218-106c-4173-9840-cd238c958cf7",
   "metadata": {},
   "outputs": [],
   "source": []
  },
  {
   "cell_type": "code",
   "execution_count": null,
   "id": "34c46c78-a48d-421a-b0be-95c8ac81fd2c",
   "metadata": {},
   "outputs": [],
   "source": []
  },
  {
   "cell_type": "code",
   "execution_count": null,
   "id": "4fcb6255-1200-4d84-99f6-a2685b6601f4",
   "metadata": {},
   "outputs": [],
   "source": []
  },
  {
   "cell_type": "code",
   "execution_count": 10,
   "id": "f6077592-193b-4437-b932-545bc7eed0a4",
   "metadata": {},
   "outputs": [
    {
     "name": "stdout",
     "output_type": "stream",
     "text": [
      "<class 'pandas.core.frame.DataFrame'>\n",
      "RangeIndex: 334 entries, 0 to 333\n",
      "Data columns (total 17 columns):\n",
      " #   Column            Non-Null Count  Dtype  \n",
      "---  ------            --------------  -----  \n",
      " 0   SALESORDERID      334 non-null    int64  \n",
      " 1   CREATEDBY         334 non-null    int64  \n",
      " 2   CREATEDAT         334 non-null    int64  \n",
      " 3   CHANGEDBY         334 non-null    int64  \n",
      " 4   CHANGEDAT         334 non-null    int64  \n",
      " 5   FISCVARIANT       334 non-null    object \n",
      " 6   FISCALYEARPERIOD  334 non-null    int64  \n",
      " 7   NOTEID            0 non-null      float64\n",
      " 8   PARTNERID         334 non-null    int64  \n",
      " 9   SALESORG          334 non-null    object \n",
      " 10  CURRENCY          334 non-null    object \n",
      " 11  GROSSAMOUNT       334 non-null    int64  \n",
      " 12  NETAMOUNT         334 non-null    float64\n",
      " 13  TAXAMOUNT         334 non-null    float64\n",
      " 14  LIFECYCLESTATUS   334 non-null    object \n",
      " 15  BILLINGSTATUS     334 non-null    object \n",
      " 16  DELIVERYSTATUS    334 non-null    object \n",
      "dtypes: float64(3), int64(8), object(6)\n",
      "memory usage: 44.5+ KB\n"
     ]
    },
    {
     "data": {
      "text/plain": [
       "SALESORDERID          0\n",
       "CREATEDBY             0\n",
       "CREATEDAT             0\n",
       "CHANGEDBY             0\n",
       "CHANGEDAT             0\n",
       "FISCVARIANT           0\n",
       "FISCALYEARPERIOD      0\n",
       "NOTEID              334\n",
       "PARTNERID             0\n",
       "SALESORG              0\n",
       "CURRENCY              0\n",
       "GROSSAMOUNT           0\n",
       "NETAMOUNT             0\n",
       "TAXAMOUNT             0\n",
       "LIFECYCLESTATUS       0\n",
       "BILLINGSTATUS         0\n",
       "DELIVERYSTATUS        0\n",
       "dtype: int64"
      ]
     },
     "execution_count": 10,
     "metadata": {},
     "output_type": "execute_result"
    }
   ],
   "source": [
    "# Check column types and non-null counts\n",
    "sales_orders.info()\n",
    "\n",
    "# Check missing values\n",
    "sales_orders.isnull().sum()\n"
   ]
  },
  {
   "cell_type": "code",
   "execution_count": null,
   "id": "ea50d09d-46e8-4443-9ad0-7d13fadf058f",
   "metadata": {},
   "outputs": [],
   "source": []
  },
  {
   "cell_type": "code",
   "execution_count": null,
   "id": "b3745158-da33-483a-94fc-dfc46c611d0e",
   "metadata": {},
   "outputs": [],
   "source": []
  },
  {
   "cell_type": "code",
   "execution_count": null,
   "id": "69e9ee7e-107b-4c9b-b12d-0934ec2b7696",
   "metadata": {},
   "outputs": [],
   "source": []
  },
  {
   "cell_type": "code",
   "execution_count": 11,
   "id": "a1370522-a9e6-43cc-8c69-499a0a38b73a",
   "metadata": {
    "scrolled": true
   },
   "outputs": [
    {
     "data": {
      "text/html": [
       "<div>\n",
       "<style scoped>\n",
       "    .dataframe tbody tr th:only-of-type {\n",
       "        vertical-align: middle;\n",
       "    }\n",
       "\n",
       "    .dataframe tbody tr th {\n",
       "        vertical-align: top;\n",
       "    }\n",
       "\n",
       "    .dataframe thead th {\n",
       "        text-align: right;\n",
       "    }\n",
       "</style>\n",
       "<table border=\"1\" class=\"dataframe\">\n",
       "  <thead>\n",
       "    <tr style=\"text-align: right;\">\n",
       "      <th></th>\n",
       "      <th>SALESORDERID</th>\n",
       "      <th>CREATEDBY</th>\n",
       "      <th>CREATEDAT</th>\n",
       "      <th>CHANGEDBY</th>\n",
       "      <th>CHANGEDAT</th>\n",
       "      <th>FISCALYEARPERIOD</th>\n",
       "      <th>NOTEID</th>\n",
       "      <th>PARTNERID</th>\n",
       "      <th>GROSSAMOUNT</th>\n",
       "      <th>NETAMOUNT</th>\n",
       "      <th>TAXAMOUNT</th>\n",
       "    </tr>\n",
       "  </thead>\n",
       "  <tbody>\n",
       "    <tr>\n",
       "      <th>count</th>\n",
       "      <td>3.340000e+02</td>\n",
       "      <td>334.000000</td>\n",
       "      <td>3.340000e+02</td>\n",
       "      <td>334.000000</td>\n",
       "      <td>3.340000e+02</td>\n",
       "      <td>3.340000e+02</td>\n",
       "      <td>0.0</td>\n",
       "      <td>3.340000e+02</td>\n",
       "      <td>334.000000</td>\n",
       "      <td>334.000000</td>\n",
       "      <td>334.000000</td>\n",
       "    </tr>\n",
       "    <tr>\n",
       "      <th>mean</th>\n",
       "      <td>5.000002e+08</td>\n",
       "      <td>5.919162</td>\n",
       "      <td>2.018365e+07</td>\n",
       "      <td>5.919162</td>\n",
       "      <td>2.018366e+07</td>\n",
       "      <td>2.018311e+06</td>\n",
       "      <td>NaN</td>\n",
       "      <td>1.000000e+08</td>\n",
       "      <td>61179.272455</td>\n",
       "      <td>53531.863398</td>\n",
       "      <td>7647.409057</td>\n",
       "    </tr>\n",
       "    <tr>\n",
       "      <th>std</th>\n",
       "      <td>9.656172e+01</td>\n",
       "      <td>3.447947</td>\n",
       "      <td>4.474591e+03</td>\n",
       "      <td>3.447947</td>\n",
       "      <td>4.475634e+03</td>\n",
       "      <td>4.597893e+02</td>\n",
       "      <td>NaN</td>\n",
       "      <td>1.173000e+01</td>\n",
       "      <td>41036.220808</td>\n",
       "      <td>35906.693207</td>\n",
       "      <td>5129.527601</td>\n",
       "    </tr>\n",
       "    <tr>\n",
       "      <th>min</th>\n",
       "      <td>5.000000e+08</td>\n",
       "      <td>1.000000</td>\n",
       "      <td>2.018011e+07</td>\n",
       "      <td>1.000000</td>\n",
       "      <td>2.018012e+07</td>\n",
       "      <td>2.018001e+06</td>\n",
       "      <td>NaN</td>\n",
       "      <td>1.000000e+08</td>\n",
       "      <td>379.000000</td>\n",
       "      <td>331.625000</td>\n",
       "      <td>47.375000</td>\n",
       "    </tr>\n",
       "    <tr>\n",
       "      <th>25%</th>\n",
       "      <td>5.000001e+08</td>\n",
       "      <td>3.000000</td>\n",
       "      <td>2.018052e+07</td>\n",
       "      <td>3.000000</td>\n",
       "      <td>2.018052e+07</td>\n",
       "      <td>2.018005e+06</td>\n",
       "      <td>NaN</td>\n",
       "      <td>1.000000e+08</td>\n",
       "      <td>29097.750000</td>\n",
       "      <td>25460.531250</td>\n",
       "      <td>3637.218750</td>\n",
       "    </tr>\n",
       "    <tr>\n",
       "      <th>50%</th>\n",
       "      <td>5.000002e+08</td>\n",
       "      <td>5.000000</td>\n",
       "      <td>2.018100e+07</td>\n",
       "      <td>5.000000</td>\n",
       "      <td>2.018100e+07</td>\n",
       "      <td>2.018010e+06</td>\n",
       "      <td>NaN</td>\n",
       "      <td>1.000000e+08</td>\n",
       "      <td>55599.000000</td>\n",
       "      <td>48649.125000</td>\n",
       "      <td>6949.875000</td>\n",
       "    </tr>\n",
       "    <tr>\n",
       "      <th>75%</th>\n",
       "      <td>5.000002e+08</td>\n",
       "      <td>8.000000</td>\n",
       "      <td>2.019020e+07</td>\n",
       "      <td>8.000000</td>\n",
       "      <td>2.019021e+07</td>\n",
       "      <td>2.019002e+06</td>\n",
       "      <td>NaN</td>\n",
       "      <td>1.000000e+08</td>\n",
       "      <td>85473.500000</td>\n",
       "      <td>74789.312500</td>\n",
       "      <td>10684.187500</td>\n",
       "    </tr>\n",
       "    <tr>\n",
       "      <th>max</th>\n",
       "      <td>5.000003e+08</td>\n",
       "      <td>14.000000</td>\n",
       "      <td>2.019063e+07</td>\n",
       "      <td>14.000000</td>\n",
       "      <td>2.019070e+07</td>\n",
       "      <td>2.019006e+06</td>\n",
       "      <td>NaN</td>\n",
       "      <td>1.000000e+08</td>\n",
       "      <td>193987.000000</td>\n",
       "      <td>169738.625000</td>\n",
       "      <td>24248.375000</td>\n",
       "    </tr>\n",
       "  </tbody>\n",
       "</table>\n",
       "</div>"
      ],
      "text/plain": [
       "       SALESORDERID   CREATEDBY     CREATEDAT   CHANGEDBY     CHANGEDAT  \\\n",
       "count  3.340000e+02  334.000000  3.340000e+02  334.000000  3.340000e+02   \n",
       "mean   5.000002e+08    5.919162  2.018365e+07    5.919162  2.018366e+07   \n",
       "std    9.656172e+01    3.447947  4.474591e+03    3.447947  4.475634e+03   \n",
       "min    5.000000e+08    1.000000  2.018011e+07    1.000000  2.018012e+07   \n",
       "25%    5.000001e+08    3.000000  2.018052e+07    3.000000  2.018052e+07   \n",
       "50%    5.000002e+08    5.000000  2.018100e+07    5.000000  2.018100e+07   \n",
       "75%    5.000002e+08    8.000000  2.019020e+07    8.000000  2.019021e+07   \n",
       "max    5.000003e+08   14.000000  2.019063e+07   14.000000  2.019070e+07   \n",
       "\n",
       "       FISCALYEARPERIOD  NOTEID     PARTNERID    GROSSAMOUNT      NETAMOUNT  \\\n",
       "count      3.340000e+02     0.0  3.340000e+02     334.000000     334.000000   \n",
       "mean       2.018311e+06     NaN  1.000000e+08   61179.272455   53531.863398   \n",
       "std        4.597893e+02     NaN  1.173000e+01   41036.220808   35906.693207   \n",
       "min        2.018001e+06     NaN  1.000000e+08     379.000000     331.625000   \n",
       "25%        2.018005e+06     NaN  1.000000e+08   29097.750000   25460.531250   \n",
       "50%        2.018010e+06     NaN  1.000000e+08   55599.000000   48649.125000   \n",
       "75%        2.019002e+06     NaN  1.000000e+08   85473.500000   74789.312500   \n",
       "max        2.019006e+06     NaN  1.000000e+08  193987.000000  169738.625000   \n",
       "\n",
       "          TAXAMOUNT  \n",
       "count    334.000000  \n",
       "mean    7647.409057  \n",
       "std     5129.527601  \n",
       "min       47.375000  \n",
       "25%     3637.218750  \n",
       "50%     6949.875000  \n",
       "75%    10684.187500  \n",
       "max    24248.375000  "
      ]
     },
     "execution_count": 11,
     "metadata": {},
     "output_type": "execute_result"
    }
   ],
   "source": [
    "# Summary statistics for numeric columns\n",
    "sales_orders.describe()\n"
   ]
  },
  {
   "cell_type": "code",
   "execution_count": 12,
   "id": "286386ef-a0dd-4c34-a73e-c3ff3af9105d",
   "metadata": {},
   "outputs": [
    {
     "name": "stdout",
     "output_type": "stream",
     "text": [
      "Sales Organizations: ['APJ' 'EMEA' 'AMER']\n",
      "Currency types: ['USD']\n"
     ]
    }
   ],
   "source": [
    "# Unique values in categorical columns\n",
    "print(\"Sales Organizations:\", sales_orders[\"SALESORG\"].unique())\n",
    "print(\"Currency types:\", sales_orders[\"CURRENCY\"].unique())"
   ]
  },
  {
   "cell_type": "code",
   "execution_count": 14,
   "id": "9c9c8d86-e0cd-4199-b7d0-45f39e70b2c3",
   "metadata": {},
   "outputs": [
    {
     "name": "stdout",
     "output_type": "stream",
     "text": [
      "Index(['SALESORDERID', 'CREATEDBY', 'CREATEDAT', 'CHANGEDBY', 'CHANGEDAT',\n",
      "       'FISCVARIANT', 'FISCALYEARPERIOD', 'NOTEID', 'PARTNERID', 'SALESORG',\n",
      "       'CURRENCY', 'GROSSAMOUNT', 'NETAMOUNT', 'TAXAMOUNT', 'LIFECYCLESTATUS',\n",
      "       'BILLINGSTATUS', 'DELIVERYSTATUS'],\n",
      "      dtype='object')\n"
     ]
    }
   ],
   "source": [
    "print(sales_orders.columns)"
   ]
  },
  {
   "cell_type": "code",
   "execution_count": 15,
   "id": "630f917b-f542-4f8f-b645-edb3fdb9103b",
   "metadata": {},
   "outputs": [
    {
     "data": {
      "image/png": "[encoded data removed]",
      "text/plain": [
       "<Figure size 800x500 with 1 Axes>"
      ]
     },
     "metadata": {},
     "output_type": "display_data"
    }
   ],
   "source": [
    "plt.figure(figsize=(8,5))\n",
    "sns.histplot(data=sales_orders, x=\"GROSSAMOUNT\", bins=20, kde=True)\n",
    "plt.title(\"Distribution of Gross Sales Amounts\")\n",
    "plt.xlabel(\"Gross Amount (USD)\")\n",
    "plt.ylabel(\"Frequency\")\n",
    "plt.show()"
   ]
  },
  {
   "cell_type": "code",
   "execution_count": 17,
   "id": "8fba959c-a268-4337-b2eb-6c1d2875bbfd",
   "metadata": {},
   "outputs": [
    {
     "data": {
      "image/png": "[encoded data removed]",
      "text/plain": [
       "<Figure size 800x500 with 1 Axes>"
      ]
     },
     "metadata": {},
     "output_type": "display_data"
    }
   ],
   "source": [
    "sales_by_org = sales_orders.groupby(\"SALESORG\")[\"GROSSAMOUNT\"].sum().sort_values(ascending=False)\n",
    "\n",
    "plt.figure(figsize=(8,5))\n",
    "sns.barplot(x=sales_by_org.index, y=sales_by_org.values)\n",
    "plt.title(\"Total Sales by Sales Organization\")\n",
    "plt.xlabel(\"Sales Organization\")\n",
    "plt.ylabel(\"Total Gross Amount (USD)\")\n",
    "plt.show()"
   ]
  },
  {
   "cell_type": "code",
   "execution_count": 18,
   "id": "86e21e2b-8b07-4416-86a2-cd0c6aa0769b",
   "metadata": {},
   "outputs": [
    {
     "data": {
      "image/png": "[encoded data removed]",
      "text/plain": [
       "<Figure size 800x500 with 1 Axes>"
      ]
     },
     "metadata": {},
     "output_type": "display_data"
    }
   ],
   "source": [
    "sales_orders[\"CREATEDAT\"] = pd.to_datetime(sales_orders[\"CREATEDAT\"], format=\"%Y%m%d\")\n",
    "sales_by_year = sales_orders.groupby(sales_orders[\"CREATEDAT\"].dt.year)[\"GROSSAMOUNT\"].sum()\n",
    "\n",
    "plt.figure(figsize=(8,5))\n",
    "sales_by_year.plot(kind=\"line\", marker=\"o\")\n",
    "plt.title(\"Yearly Sales Trend\")\n",
    "plt.xlabel(\"Year\")\n",
    "plt.ylabel(\"Total Gross Amount (USD)\")\n",
    "plt.grid(True)\n",
    "plt.show()\n"
   ]
  },
  {
   "cell_type": "code",
   "execution_count": 19,
   "id": "37a044a3-2574-4753-b782-308d1463bae3",
   "metadata": {},
   "outputs": [
    {
     "data": {
      "image/png": "[encoded data removed]",
      "text/plain": [
       "<Figure size 1000x500 with 1 Axes>"
      ]
     },
     "metadata": {},
     "output_type": "display_data"
    }
   ],
   "source": [
    "top_customers = sales_orders.groupby(\"PARTNERID\")[\"GROSSAMOUNT\"].sum().sort_values(ascending=False).head(10)\n",
    "\n",
    "plt.figure(figsize=(10,5))\n",
    "sns.barplot(x=top_customers.index.astype(str), y=top_customers.values)\n",
    "plt.title(\"Top 10 Customers by Gross Sales\")\n",
    "plt.xlabel(\"Partner ID\")\n",
    "plt.ylabel(\"Total Gross Amount (USD)\")\n",
    "plt.xticks(rotation=45)\n",
    "plt.show()\n"
   ]
  },
  {
   "cell_type": "code",
   "execution_count": 20,
   "id": "0eb4ee06-8d3a-4019-946f-44e59cf078a9",
   "metadata": {},
   "outputs": [
    {
     "data": {
      "text/plain": [
       "<Axes: >"
      ]
     },
     "execution_count": 20,
     "metadata": {},
     "output_type": "execute_result"
    },
    {
     "data": {
      "image/png": "[encoded data removed]",
      "text/plain": [
       "<Figure size 2500x1000 with 2 Axes>"
      ]
     },
     "metadata": {},
     "output_type": "display_data"
    }
   ],
   "source": [
    "import missingno as msno\n",
    "msno.matrix(sales_orders)"
   ]
  },
  {
   "cell_type": "code",
   "execution_count": null,
   "id": "63175d76-71b8-46ac-abfa-f8e9663253a2",
   "metadata": {},
   "outputs": [],
   "source": []
  }
 ],
 "metadata": {
  "kernelspec": {
   "display_name": "Python 3 (ipykernel)",
   "language": "python",
   "name": "python3"
  },
  "language_info": {
   "codemirror_mode": {
    "name": "ipython",
    "version": 3
   },
   "file_extension": ".py",
   "mimetype": "text/x-python",
   "name": "python",
   "nbconvert_exporter": "python",
   "pygments_lexer": "ipython3",
   "version": "3.11.9"
  }
 },
 "nbformat": 4,
 "nbformat_minor": 5
}
