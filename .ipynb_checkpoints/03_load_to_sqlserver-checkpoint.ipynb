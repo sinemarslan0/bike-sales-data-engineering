{
 "cells": [
  {
   "cell_type": "markdown",
   "id": "110ba7d4-03cc-4aa6-940f-a31ca002b5ea",
   "metadata": {},
   "source": [
    "# 🗃️ Bike Sales – Load to SQL Server (ETL Step 3)\n",
    "\n",
    "This notebook documents the process of loading cleaned bike sales data into a SQL Server database using **SQL Server Management Studio (SSMS)**.\n",
    "\n",
    "All transformations were completed in `02_load_transform_bike_sales.ipynb`, and the cleaned `.csv` files are stored in the `data/cleaned/` directory.\n",
    "\n",
    "We use SSMS to:\n",
    "- Create the target database and tables\n",
    "- Define primary and foreign key constraints\n",
    "- Import cleaned CSV files\n",
    "- Validate data integrity and relationships\n",
    "\n",
    "This notebook serves as a technical reference for anyone replicating or reviewing the ETL pipeline."
   ]
  },
  {
   "cell_type": "markdown",
   "id": "76da62c9-00ce-4c75-9a20-80eb02ad3106",
   "metadata": {},
   "source": [
    "### Step 1: Create the Database\n",
    "\n",
    "In SSMS, we created a new database named `BikeSalesDW` to store all cleaned tables.\n",
    "\n",
    "```sql\n",
    "CREATE DATABASE BikeSalesDW;"
   ]
  },
  {
   "cell_type": "markdown",
   "id": "17b75fae-90ca-43bb-833c-9ce665ed5b79",
   "metadata": {},
   "source": [
    "### Step 2: Create Tables\n",
    "\n",
    "Each table was manually created in SSMS using SQL `CREATE TABLE` statements.  \n",
    "Below is an example for the `products` table:\n",
    "\n",
    "```sql\n",
    "CREATE TABLE products (\n",
    "    PRODUCTID VARCHAR(20) PRIMARY KEY,\n",
    "    NAME VARCHAR(100),\n",
    "    CATEGORYID INT,\n",
    "    CREATEDAT DATE,\n",
    "    CREATEDBY INT,\n",
    "    CHANGEDAT DATE,\n",
    "    CHANGEDBY INT,\n",
    "    TYPECODE VARCHAR(20),\n",
    "    QUANTITYUNIT VARCHAR(10),\n",
    "    WEIGHTUNIT VARCHAR(10),\n",
    "    CURRENCY VARCHAR(10),\n",
    "    PRICE FLOAT,\n",
    "    WEIGHT FLOAT\n",
    ");"
   ]
  },
  {
   "cell_type": "markdown",
   "id": "ac7a3d10-292e-4d69-b4a3-b691dddbd300",
   "metadata": {},
   "source": [
    "### Step 3: Define Foreign Key Relationships\n",
    "\n",
    "To enforce referential integrity, we defined foreign key constraints between related tables.\n",
    "\n",
    "Example:\n",
    "\n",
    "```sql\n",
    "ALTER TABLE sales_order_items\n",
    "ADD FOREIGN KEY (PRODUCTID) REFERENCES products(PRODUCTID);"
   ]
  },
  {
   "cell_type": "markdown",
   "id": "a5a099a2-fcb9-4370-a0e4-6dfcaf486df0",
   "metadata": {},
   "source": [
    "### Step 4: Import Cleaned CSV Files\n",
    "\n",
    "Using SSMS's **Import Flat File** wizard, we imported each cleaned `.csv` file from the `data/cleaned/` directory.\n",
    "\n",
    "Steps:\n",
    "1. Right-click on the database → Tasks → Import Flat File\n",
    "2. Select the source `.csv` file\n",
    "3. Review column mappings and data types\n",
    "4. Finish the import and verify the table\n",
    "\n",
    "Repeat this process for all 8 tables."
   ]
  },
  {
   "cell_type": "markdown",
   "id": "98528d2d-cb81-44f9-a69e-0c1d91945a6e",
   "metadata": {},
   "source": [
    "### Step 5: Validate Data Integrity\n",
    "\n",
    "After importing the data, we ran basic SQL queries to confirm:\n",
    "\n",
    "- Row counts match the original files\n",
    "- Foreign key relationships are valid\n",
    "- No nulls in primary key columns\n",
    "\n",
    "Examples:\n",
    "\n",
    "```sql\n",
    "-- Check row count\n",
    "SELECT COUNT(*) FROM products;\n",
    "\n",
    "-- Check referential integrity\n",
    "SELECT COUNT(*) FROM sales_order_items WHERE PRODUCTID NOT IN (SELECT PRODUCTID FROM products);"
   ]
  },
  {
   "cell_type": "markdown",
   "id": "1cb4b8bc-04e9-4bf7-9d3e-50c2675a6473",
   "metadata": {},
   "source": [
    "### Final Note\n",
    "\n",
    "All cleaned tables have been successfully loaded into SQL Server with enforced relationships.  \n",
    "The data warehouse is now ready for analytical queries and dashboarding.\n",
    "\n",
    "Next step: `04_analyze_bike_sales.ipynb` – where we explore trends, KPIs, and visualizations."
   ]
  }
 ],
 "metadata": {
  "kernelspec": {
   "display_name": "Python 3 (ipykernel)",
   "language": "python",
   "name": "python3"
  },
  "language_info": {
   "codemirror_mode": {
    "name": "ipython",
    "version": 3
   },
   "file_extension": ".py",
   "mimetype": "text/x-python",
   "name": "python",
   "nbconvert_exporter": "python",
   "pygments_lexer": "ipython3",
   "version": "3.11.9"
  }
 },
 "nbformat": 4,
 "nbformat_minor": 5
}
